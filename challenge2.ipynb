{
 "cells": [
  {
   "cell_type": "markdown",
   "metadata": {},
   "source": [
    "# Challenge Sprint 2: Processamento de Linguagem Natural"
   ]
  },
  {
   "cell_type": "markdown",
   "metadata": {},
   "source": [
    "Integrantes:<br><br>\n",
    "Henrique Marra Barbosa - RM97672<br>\n",
    "Arthur Hieda Cunha - RM551882<br>\n",
    "Lucas Bueno Taets Gustavo - RM552162<br>\n",
    "Kauã Tateishi dos Santos - RM551632"
   ]
  },
  {
   "cell_type": "markdown",
   "metadata": {},
   "source": [
    "> Preparação do Ambiente"
   ]
  },
  {
   "cell_type": "code",
   "execution_count": 1,
   "metadata": {},
   "outputs": [
    {
     "name": "stdout",
     "output_type": "stream",
     "text": [
      "Requirement already satisfied: textblob in c:\\users\\marra\\appdata\\local\\programs\\python\\python311\\lib\\site-packages (0.18.0.post0)\n",
      "Requirement already satisfied: nltk>=3.8 in c:\\users\\marra\\appdata\\local\\programs\\python\\python311\\lib\\site-packages (from textblob) (3.8.1)\n",
      "Requirement already satisfied: click in c:\\users\\marra\\appdata\\local\\programs\\python\\python311\\lib\\site-packages (from nltk>=3.8->textblob) (8.1.7)\n",
      "Requirement already satisfied: joblib in c:\\users\\marra\\appdata\\local\\programs\\python\\python311\\lib\\site-packages (from nltk>=3.8->textblob) (1.3.2)\n",
      "Requirement already satisfied: regex>=2021.8.3 in c:\\users\\marra\\appdata\\local\\programs\\python\\python311\\lib\\site-packages (from nltk>=3.8->textblob) (2024.5.10)\n",
      "Requirement already satisfied: tqdm in c:\\users\\marra\\appdata\\local\\programs\\python\\python311\\lib\\site-packages (from nltk>=3.8->textblob) (4.66.1)\n",
      "Requirement already satisfied: colorama in c:\\users\\marra\\appdata\\roaming\\python\\python311\\site-packages (from click->nltk>=3.8->textblob) (0.4.6)\n",
      "Finished.\n"
     ]
    },
    {
     "name": "stderr",
     "output_type": "stream",
     "text": [
      "[nltk_data] Downloading package brown to\n",
      "[nltk_data]     C:\\Users\\marra\\AppData\\Roaming\\nltk_data...\n",
      "[nltk_data]   Package brown is already up-to-date!\n",
      "[nltk_data] Downloading package punkt to\n",
      "[nltk_data]     C:\\Users\\marra\\AppData\\Roaming\\nltk_data...\n",
      "[nltk_data]   Package punkt is already up-to-date!\n",
      "[nltk_data] Downloading package wordnet to\n",
      "[nltk_data]     C:\\Users\\marra\\AppData\\Roaming\\nltk_data...\n",
      "[nltk_data]   Package wordnet is already up-to-date!\n",
      "[nltk_data] Downloading package averaged_perceptron_tagger to\n",
      "[nltk_data]     C:\\Users\\marra\\AppData\\Roaming\\nltk_data...\n",
      "[nltk_data]   Package averaged_perceptron_tagger is already up-to-\n",
      "[nltk_data]       date!\n",
      "[nltk_data] Downloading package conll2000 to\n",
      "[nltk_data]     C:\\Users\\marra\\AppData\\Roaming\\nltk_data...\n",
      "[nltk_data]   Package conll2000 is already up-to-date!\n",
      "[nltk_data] Downloading package movie_reviews to\n",
      "[nltk_data]     C:\\Users\\marra\\AppData\\Roaming\\nltk_data...\n",
      "[nltk_data]   Package movie_reviews is already up-to-date!\n"
     ]
    },
    {
     "name": "stdout",
     "output_type": "stream",
     "text": [
      "Requirement already satisfied: dash in c:\\users\\marra\\appdata\\local\\programs\\python\\python311\\lib\\site-packages (2.17.0)\n",
      "Requirement already satisfied: Flask<3.1,>=1.0.4 in c:\\users\\marra\\appdata\\local\\programs\\python\\python311\\lib\\site-packages (from dash) (3.0.0)\n",
      "Requirement already satisfied: Werkzeug<3.1 in c:\\users\\marra\\appdata\\local\\programs\\python\\python311\\lib\\site-packages (from dash) (3.0.0)\n",
      "Requirement already satisfied: plotly>=5.0.0 in c:\\users\\marra\\appdata\\local\\programs\\python\\python311\\lib\\site-packages (from dash) (5.22.0)\n",
      "Requirement already satisfied: dash-html-components==2.0.0 in c:\\users\\marra\\appdata\\local\\programs\\python\\python311\\lib\\site-packages (from dash) (2.0.0)\n",
      "Requirement already satisfied: dash-core-components==2.0.0 in c:\\users\\marra\\appdata\\local\\programs\\python\\python311\\lib\\site-packages (from dash) (2.0.0)\n",
      "Requirement already satisfied: dash-table==5.0.0 in c:\\users\\marra\\appdata\\local\\programs\\python\\python311\\lib\\site-packages (from dash) (5.0.0)\n",
      "Requirement already satisfied: importlib-metadata in c:\\users\\marra\\appdata\\local\\programs\\python\\python311\\lib\\site-packages (from dash) (7.0.0)\n",
      "Requirement already satisfied: typing-extensions>=4.1.1 in c:\\users\\marra\\appdata\\local\\programs\\python\\python311\\lib\\site-packages (from dash) (4.11.0)\n",
      "Requirement already satisfied: requests in c:\\users\\marra\\appdata\\local\\programs\\python\\python311\\lib\\site-packages (from dash) (2.30.0)\n",
      "Requirement already satisfied: retrying in c:\\users\\marra\\appdata\\local\\programs\\python\\python311\\lib\\site-packages (from dash) (1.3.4)\n",
      "Requirement already satisfied: nest-asyncio in c:\\users\\marra\\appdata\\roaming\\python\\python311\\site-packages (from dash) (1.5.7)\n",
      "Requirement already satisfied: setuptools in c:\\users\\marra\\appdata\\local\\programs\\python\\python311\\lib\\site-packages (from dash) (69.2.0)\n",
      "Requirement already satisfied: Jinja2>=3.1.2 in c:\\users\\marra\\appdata\\local\\programs\\python\\python311\\lib\\site-packages (from Flask<3.1,>=1.0.4->dash) (3.1.2)\n",
      "Requirement already satisfied: itsdangerous>=2.1.2 in c:\\users\\marra\\appdata\\local\\programs\\python\\python311\\lib\\site-packages (from Flask<3.1,>=1.0.4->dash) (2.1.2)\n",
      "Requirement already satisfied: click>=8.1.3 in c:\\users\\marra\\appdata\\local\\programs\\python\\python311\\lib\\site-packages (from Flask<3.1,>=1.0.4->dash) (8.1.7)\n",
      "Requirement already satisfied: blinker>=1.6.2 in c:\\users\\marra\\appdata\\local\\programs\\python\\python311\\lib\\site-packages (from Flask<3.1,>=1.0.4->dash) (1.6.2)\n",
      "Requirement already satisfied: tenacity>=6.2.0 in c:\\users\\marra\\appdata\\local\\programs\\python\\python311\\lib\\site-packages (from plotly>=5.0.0->dash) (8.3.0)\n",
      "Requirement already satisfied: packaging in c:\\users\\marra\\appdata\\local\\programs\\python\\python311\\lib\\site-packages (from plotly>=5.0.0->dash) (23.2)\n",
      "Requirement already satisfied: MarkupSafe>=2.1.1 in c:\\users\\marra\\appdata\\local\\programs\\python\\python311\\lib\\site-packages (from Werkzeug<3.1->dash) (2.1.2)\n",
      "Requirement already satisfied: zipp>=0.5 in c:\\users\\marra\\appdata\\local\\programs\\python\\python311\\lib\\site-packages (from importlib-metadata->dash) (3.18.1)\n",
      "Requirement already satisfied: charset-normalizer<4,>=2 in c:\\users\\marra\\appdata\\local\\programs\\python\\python311\\lib\\site-packages (from requests->dash) (3.1.0)\n",
      "Requirement already satisfied: idna<4,>=2.5 in c:\\users\\marra\\appdata\\local\\programs\\python\\python311\\lib\\site-packages (from requests->dash) (3.4)\n",
      "Requirement already satisfied: urllib3<3,>=1.21.1 in c:\\users\\marra\\appdata\\local\\programs\\python\\python311\\lib\\site-packages (from requests->dash) (2.2.1)\n",
      "Requirement already satisfied: certifi>=2017.4.17 in c:\\users\\marra\\appdata\\local\\programs\\python\\python311\\lib\\site-packages (from requests->dash) (2023.5.7)\n",
      "Requirement already satisfied: six>=1.7.0 in c:\\users\\marra\\appdata\\local\\programs\\python\\python311\\lib\\site-packages (from retrying->dash) (1.16.0)\n",
      "Requirement already satisfied: colorama in c:\\users\\marra\\appdata\\roaming\\python\\python311\\site-packages (from click>=8.1.3->Flask<3.1,>=1.0.4->dash) (0.4.6)\n",
      "Requirement already satisfied: plotly in c:\\users\\marra\\appdata\\local\\programs\\python\\python311\\lib\\site-packages (5.22.0)\n",
      "Requirement already satisfied: tenacity>=6.2.0 in c:\\users\\marra\\appdata\\local\\programs\\python\\python311\\lib\\site-packages (from plotly) (8.3.0)\n",
      "Requirement already satisfied: packaging in c:\\users\\marra\\appdata\\local\\programs\\python\\python311\\lib\\site-packages (from plotly) (23.2)\n",
      "Requirement already satisfied: pandas in c:\\users\\marra\\appdata\\local\\programs\\python\\python311\\lib\\site-packages (2.2.1)\n",
      "Requirement already satisfied: numpy<2,>=1.23.2 in c:\\users\\marra\\appdata\\local\\programs\\python\\python311\\lib\\site-packages (from pandas) (1.26.4)\n",
      "Requirement already satisfied: python-dateutil>=2.8.2 in c:\\users\\marra\\appdata\\local\\programs\\python\\python311\\lib\\site-packages (from pandas) (2.8.2)\n",
      "Requirement already satisfied: pytz>=2020.1 in c:\\users\\marra\\appdata\\local\\programs\\python\\python311\\lib\\site-packages (from pandas) (2023.3)\n",
      "Requirement already satisfied: tzdata>=2022.7 in c:\\users\\marra\\appdata\\local\\programs\\python\\python311\\lib\\site-packages (from pandas) (2023.3)\n",
      "Requirement already satisfied: six>=1.5 in c:\\users\\marra\\appdata\\local\\programs\\python\\python311\\lib\\site-packages (from python-dateutil>=2.8.2->pandas) (1.16.0)\n"
     ]
    }
   ],
   "source": [
    "!pip install -U textblob\n",
    "!python -m textblob.download_corpora\n",
    "!pip install dash\n",
    "!pip install plotly\n",
    "!pip install pandas"
   ]
  },
  {
   "cell_type": "markdown",
   "metadata": {},
   "source": [
    "> Importação das Bibliotecas"
   ]
  },
  {
   "cell_type": "code",
   "execution_count": 2,
   "metadata": {},
   "outputs": [],
   "source": [
    "from textblob import Blobber\n",
    "import pandas as pd\n",
    "import dash\n",
    "from dash import dcc, html\n",
    "import plotly.express as px"
   ]
  },
  {
   "cell_type": "markdown",
   "metadata": {},
   "source": [
    "> Lendo os Comentários do Arquivo"
   ]
  },
  {
   "cell_type": "code",
   "execution_count": 3,
   "metadata": {},
   "outputs": [
    {
     "name": "stdout",
     "output_type": "stream",
     "text": [
      "['1. \"The delivery service was amazing, it arrived earlier than expected!\"', '2. \"The product quality was disappointing, I do not recommend.\"', '3. \"Excellent customer service, they quickly resolved my issue.\"', '4. \"The price is a bit high, but the quality makes up for it.\"', '5. \"Terrible experience, the product arrived damaged.\"', '6. \"The variety of products is impressive, I found everything I needed.\"', '7. \"Delayed delivery, they do not meet deadlines.\"', '8. \"Great cost-benefit ratio, I recommend it!\"', '9. \"Terrible service, unhelpful staff.\"', '10. \"I\\'m satisfied with the delivery speed.\"', '11. \"Doubtful product quality, it didn\\'t last a week.\"', '12. \"The website navigation is confusing, I had trouble finding what I wanted.\"', '13. \"Affordable price and fast delivery, perfect!\"', '14. \"The product arrived exactly as expected, no issues.\"', '15. \"Reliable delivery service, I\\'ve never had problems.\"', '16. \"I bought two products and one of them was not delivered, terrible service!\"', '17. \"I do not recommend, terrible experience from start to finish.\"', '18. \"Cordial and efficient service, I liked it a lot.\"', '19. \"The product arrived damaged and the support didn\\'t solve my issue.\"', '20. \"Delivery within the deadline and quality product, excellent!\"']\n"
     ]
    }
   ],
   "source": [
    "# Função para ler os comentários do arquivo\n",
    "def ler_comentarios(arquivo):\n",
    "    with open(arquivo, \"r\", encoding=\"utf-8\") as file:\n",
    "        comentarios = [linha.strip() for linha in file.readlines()]\n",
    "    return comentarios\n",
    "\n",
    "# Ler os comentários do arquivo\n",
    "comentarios = ler_comentarios(\"comentarios.txt\")\n",
    "print(comentarios)"
   ]
  },
  {
   "cell_type": "markdown",
   "metadata": {},
   "source": [
    "> Analisando o Sentimento dos Comentários"
   ]
  },
  {
   "cell_type": "code",
   "execution_count": 4,
   "metadata": {},
   "outputs": [
    {
     "name": "stdout",
     "output_type": "stream",
     "text": [
      "[('1. \"The delivery service was amazing, it arrived earlier than expected!\"', 'Positivo'), ('2. \"The product quality was disappointing, I do not recommend.\"', 'Negativo'), ('3. \"Excellent customer service, they quickly resolved my issue.\"', 'Positivo'), ('4. \"The price is a bit high, but the quality makes up for it.\"', 'Positivo'), ('5. \"Terrible experience, the product arrived damaged.\"', 'Negativo'), ('6. \"The variety of products is impressive, I found everything I needed.\"', 'Positivo'), ('7. \"Delayed delivery, they do not meet deadlines.\"', 'Neutro'), ('8. \"Great cost-benefit ratio, I recommend it!\"', 'Positivo'), ('9. \"Terrible service, unhelpful staff.\"', 'Negativo'), ('10. \"I\\'m satisfied with the delivery speed.\"', 'Positivo'), ('11. \"Doubtful product quality, it didn\\'t last a week.\"', 'Negativo'), ('12. \"The website navigation is confusing, I had trouble finding what I wanted.\"', 'Negativo'), ('13. \"Affordable price and fast delivery, perfect!\"', 'Positivo'), ('14. \"The product arrived exactly as expected, no issues.\"', 'Negativo'), ('15. \"Reliable delivery service, I\\'ve never had problems.\"', 'Neutro'), ('16. \"I bought two products and one of them was not delivered, terrible service!\"', 'Negativo'), ('17. \"I do not recommend, terrible experience from start to finish.\"', 'Negativo'), ('18. \"Cordial and efficient service, I liked it a lot.\"', 'Positivo'), ('19. \"The product arrived damaged and the support didn\\'t solve my issue.\"', 'Neutro'), ('20. \"Delivery within the deadline and quality product, excellent!\"', 'Positivo')]\n"
     ]
    }
   ],
   "source": [
    "# Função para analisar o sentimento de cada comentário\n",
    "tb = Blobber()\n",
    "\n",
    "def analisar_sentimento(comentarios):\n",
    "    resultados = []\n",
    "    for comentario in comentarios:\n",
    "        blob = tb(comentario)\n",
    "        polaridade = blob.sentiment.polarity\n",
    "        if polaridade > 0:\n",
    "            resultado = \"Positivo\"\n",
    "        elif polaridade < 0:\n",
    "            resultado = \"Negativo\"\n",
    "        else:\n",
    "            resultado = \"Neutro\"\n",
    "        resultados.append((comentario.strip(), resultado))\n",
    "    return resultados\n",
    "\n",
    "# Analisar os sentimentos dos comentários\n",
    "resultados_sentimento = analisar_sentimento(comentarios)\n",
    "print(resultados_sentimento)"
   ]
  },
  {
   "cell_type": "markdown",
   "metadata": {},
   "source": [
    "> Conversão dos Resultados para DataFrame"
   ]
  },
  {
   "cell_type": "code",
   "execution_count": 5,
   "metadata": {},
   "outputs": [
    {
     "data": {
      "text/html": [
       "<div>\n",
       "<style scoped>\n",
       "    .dataframe tbody tr th:only-of-type {\n",
       "        vertical-align: middle;\n",
       "    }\n",
       "\n",
       "    .dataframe tbody tr th {\n",
       "        vertical-align: top;\n",
       "    }\n",
       "\n",
       "    .dataframe thead th {\n",
       "        text-align: right;\n",
       "    }\n",
       "</style>\n",
       "<table border=\"1\" class=\"dataframe\">\n",
       "  <thead>\n",
       "    <tr style=\"text-align: right;\">\n",
       "      <th></th>\n",
       "      <th>Comentario</th>\n",
       "      <th>Sentimento</th>\n",
       "    </tr>\n",
       "  </thead>\n",
       "  <tbody>\n",
       "    <tr>\n",
       "      <th>0</th>\n",
       "      <td>1. \"The delivery service was amazing, it arriv...</td>\n",
       "      <td>Positivo</td>\n",
       "    </tr>\n",
       "    <tr>\n",
       "      <th>1</th>\n",
       "      <td>2. \"The product quality was disappointing, I d...</td>\n",
       "      <td>Negativo</td>\n",
       "    </tr>\n",
       "    <tr>\n",
       "      <th>2</th>\n",
       "      <td>3. \"Excellent customer service, they quickly r...</td>\n",
       "      <td>Positivo</td>\n",
       "    </tr>\n",
       "    <tr>\n",
       "      <th>3</th>\n",
       "      <td>4. \"The price is a bit high, but the quality m...</td>\n",
       "      <td>Positivo</td>\n",
       "    </tr>\n",
       "    <tr>\n",
       "      <th>4</th>\n",
       "      <td>5. \"Terrible experience, the product arrived d...</td>\n",
       "      <td>Negativo</td>\n",
       "    </tr>\n",
       "  </tbody>\n",
       "</table>\n",
       "</div>"
      ],
      "text/plain": [
       "                                          Comentario Sentimento\n",
       "0  1. \"The delivery service was amazing, it arriv...   Positivo\n",
       "1  2. \"The product quality was disappointing, I d...   Negativo\n",
       "2  3. \"Excellent customer service, they quickly r...   Positivo\n",
       "3  4. \"The price is a bit high, but the quality m...   Positivo\n",
       "4  5. \"Terrible experience, the product arrived d...   Negativo"
      ]
     },
     "execution_count": 5,
     "metadata": {},
     "output_type": "execute_result"
    }
   ],
   "source": [
    "# Converter resultados para DataFrame\n",
    "df = pd.DataFrame(resultados_sentimento, columns=[\"Comentario\", \"Sentimento\"])\n",
    "df.head()"
   ]
  },
  {
   "cell_type": "markdown",
   "metadata": {},
   "source": [
    "> Gerando o Relatório"
   ]
  },
  {
   "cell_type": "code",
   "execution_count": 6,
   "metadata": {},
   "outputs": [
    {
     "name": "stdout",
     "output_type": "stream",
     "text": [
      "----- Melhores Serviços: 9 -----\n",
      "1. \"The delivery service was amazing, it arrived earlier than expected!\"\n",
      "3. \"Excellent customer service, they quickly resolved my issue.\"\n",
      "4. \"The price is a bit high, but the quality makes up for it.\"\n",
      "6. \"The variety of products is impressive, I found everything I needed.\"\n",
      "8. \"Great cost-benefit ratio, I recommend it!\"\n",
      "10. \"I'm satisfied with the delivery speed.\"\n",
      "13. \"Affordable price and fast delivery, perfect!\"\n",
      "18. \"Cordial and efficient service, I liked it a lot.\"\n",
      "20. \"Delivery within the deadline and quality product, excellent!\"\n",
      "\n",
      "----- Piores Serviços: 8 -----\n",
      "2. \"The product quality was disappointing, I do not recommend.\"\n",
      "5. \"Terrible experience, the product arrived damaged.\"\n",
      "9. \"Terrible service, unhelpful staff.\"\n",
      "11. \"Doubtful product quality, it didn't last a week.\"\n",
      "12. \"The website navigation is confusing, I had trouble finding what I wanted.\"\n",
      "14. \"The product arrived exactly as expected, no issues.\"\n",
      "16. \"I bought two products and one of them was not delivered, terrible service!\"\n",
      "17. \"I do not recommend, terrible experience from start to finish.\"\n",
      "\n",
      "----- Comentários Neutros: 3 -----\n",
      "7. \"Delayed delivery, they do not meet deadlines.\"\n",
      "15. \"Reliable delivery service, I've never had problems.\"\n",
      "19. \"The product arrived damaged and the support didn't solve my issue.\"\n"
     ]
    }
   ],
   "source": [
    "# Função para gerar o relatório\n",
    "def gerar_relatorio(df):\n",
    "    positivos = df[df['Sentimento'] == \"Positivo\"]\n",
    "    negativos = df[df['Sentimento'] == \"Negativo\"]\n",
    "    neutros = df[df['Sentimento'] == \"Neutro\"]\n",
    "\n",
    "    print(f\"----- Melhores Serviços: {len(positivos)} -----\")\n",
    "    for comentario in positivos['Comentario']:\n",
    "        print(comentario)\n",
    "\n",
    "    print(f\"\\n----- Piores Serviços: {len(negativos)} -----\")\n",
    "    for comentario in negativos['Comentario']:\n",
    "        print(comentario)\n",
    "\n",
    "    print(f\"\\n----- Comentários Neutros: {len(neutros)} -----\")\n",
    "    for comentario in neutros['Comentario']:\n",
    "        print(comentario)\n",
    "\n",
    "# Gerar o relatório\n",
    "gerar_relatorio(df)"
   ]
  },
  {
   "cell_type": "markdown",
   "metadata": {},
   "source": [
    "> Criação do Dashboard com Dash"
   ]
  },
  {
   "cell_type": "code",
   "execution_count": 7,
   "metadata": {},
   "outputs": [],
   "source": [
    "# Inicializar a aplicação Dash\n",
    "app = dash.Dash(__name__)\n",
    "\n",
    "# Função para gerar figuras de barras\n",
    "def criar_grafico_sentimentos(df):\n",
    "    contagem_sentimentos = df['Sentimento'].value_counts().reset_index()\n",
    "    contagem_sentimentos.columns = ['Sentimento', 'count']\n",
    "    fig = px.bar(contagem_sentimentos, x='Sentimento', y='count')\n",
    "    fig.update_layout(title='Distribuição dos Sentimentos',\n",
    "                      xaxis_title='Sentimento',\n",
    "                      yaxis_title='Quantidade')\n",
    "    return fig\n",
    "\n",
    "# Layout da aplicação\n",
    "app.layout = html.Div(children=[\n",
    "    html.H1(children='Análise de Sentimentos dos Comentários'),\n",
    "\n",
    "    dcc.Graph(\n",
    "        id='grafico-sentimentos',\n",
    "        figure=criar_grafico_sentimentos(df)\n",
    "    ),\n",
    "\n",
    "    html.Div(children='''\n",
    "        Dashboard para visualização de sentimentos dos comentários.\n",
    "    '''),\n",
    "])"
   ]
  },
  {
   "cell_type": "markdown",
   "metadata": {},
   "source": [
    "> Executar o Dashboard"
   ]
  },
  {
   "cell_type": "code",
   "execution_count": 8,
   "metadata": {},
   "outputs": [
    {
     "data": {
      "text/html": [
       "\n",
       "        <iframe\n",
       "            width=\"100%\"\n",
       "            height=\"650\"\n",
       "            src=\"http://127.0.0.1:8050/\"\n",
       "            frameborder=\"0\"\n",
       "            allowfullscreen\n",
       "            \n",
       "        ></iframe>\n",
       "        "
      ],
      "text/plain": [
       "<IPython.lib.display.IFrame at 0x26518597750>"
      ]
     },
     "metadata": {},
     "output_type": "display_data"
    }
   ],
   "source": [
    "# Rodar o servidor\n",
    "if __name__ == '__main__':\n",
    "    app.run_server(debug=True)"
   ]
  }
 ],
 "metadata": {
  "kernelspec": {
   "display_name": "Python 3",
   "language": "python",
   "name": "python3"
  },
  "language_info": {
   "codemirror_mode": {
    "name": "ipython",
    "version": 3
   },
   "file_extension": ".py",
   "mimetype": "text/x-python",
   "name": "python",
   "nbconvert_exporter": "python",
   "pygments_lexer": "ipython3",
   "version": "3.11.2"
  }
 },
 "nbformat": 4,
 "nbformat_minor": 2
}
